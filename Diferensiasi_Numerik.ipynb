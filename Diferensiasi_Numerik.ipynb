{
  "cells": [
    {
      "cell_type": "code",
      "execution_count": 28,
      "metadata": {
        "id": "zwFnJsE6vjf8",
        "colab": {
          "base_uri": "https://localhost:8080/"
        },
        "outputId": "c79d43b3-e6e6-4c65-eb74-96780d867af9"
      },
      "outputs": [
        {
          "output_type": "stream",
          "name": "stdout",
          "text": [
            "4.009999999999891\n"
          ]
        }
      ],
      "source": [
        "# Diferensiasi Numerik ##\n",
        "\n",
        "import math\n",
        "\n",
        "class dif:\n",
        "  def f(x):\n",
        "    return x**2\n",
        "\n",
        "  def bedaMaju(f,h,x):\n",
        "    return (f(x+h) - f(x)) / h\n",
        "\n",
        "  def bedaMundur(f,h,x):\n",
        "    return (f(x) - f(x-h)) / h\n",
        "\n",
        "  def bedaTengah(f,h,x):\n",
        "    return (f(x+h) - f(x-h)) / 2*h\n",
        "\n",
        "x = 2\n",
        "h = 0.01\n"
      ]
    },
    {
      "cell_type": "markdown",
      "source": [],
      "metadata": {
        "id": "C-0EEWpIkX6I"
      }
    }
  ],
  "metadata": {
    "colab": {
      "name": "Selamat Datang di Colaboratory",
      "provenance": []
    },
    "kernelspec": {
      "display_name": "Python 3",
      "name": "python3"
    }
  },
  "nbformat": 4,
  "nbformat_minor": 0
}